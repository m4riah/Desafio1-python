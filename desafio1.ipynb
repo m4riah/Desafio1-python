{
  "nbformat": 4,
  "nbformat_minor": 0,
  "metadata": {
    "colab": {
      "provenance": [],
      "authorship_tag": "ABX9TyNNeX7gppx/aUdqfiJt99r2",
      "include_colab_link": true
    },
    "kernelspec": {
      "name": "python3",
      "display_name": "Python 3"
    },
    "language_info": {
      "name": "python"
    }
  },
  "cells": [
    {
      "cell_type": "markdown",
      "metadata": {
        "id": "view-in-github",
        "colab_type": "text"
      },
      "source": [
        "<a href=\"https://colab.research.google.com/github/m4riah/Desafio1-python/blob/main/desafio1.ipynb\" target=\"_parent\"><img src=\"https://colab.research.google.com/assets/colab-badge.svg\" alt=\"Open In Colab\"/></a>"
      ]
    },
    {
      "cell_type": "code",
      "execution_count": null,
      "metadata": {
        "id": "m-gFwdbo3ay6"
      },
      "outputs": [],
      "source": [
        "- Desenvolva um objeto 'Animal' com aplicação dos conceitos de Herança e Polimorfismo.\n",
        "- Reino animal: principais características e classificações"
      ]
    },
    {
      "cell_type": "code",
      "source": [
        "class Animal:\n",
        "    def __init__(self, nome, idade):\n",
        "        self.nome = nome\n",
        "        self.idade = idade\n",
        "\n",
        "    def emitir_som(self):\n",
        "        pass\n",
        "\n",
        "\n",
        "class Cachorro(Animal):\n",
        "    def __init__(self, nome, idade):\n",
        "        super().__init__(nome, idade)\n",
        "\n",
        "    def emitir_som(self):\n",
        "        return \"Au Au!\"\n",
        "\n",
        "\n",
        "class Gato(Animal):\n",
        "    def __init__(self, nome, idade):\n",
        "        super().__init__(nome, idade)\n",
        "\n",
        "    def emitir_som(self):\n",
        "        return \"Miau Miau!\"\n",
        "\n",
        "\n",
        "class Vaca(Animal):\n",
        "    def __init__(self, nome, idade):\n",
        "        super().__init__(nome, idade)\n",
        "\n",
        "    def emitir_som(self):\n",
        "        return \"Moo Moo!\"\n",
        "\n",
        "\n",
        "# Uso do polimorfismo\n",
        "animais = [Cachorro(\"Rex\", 3), Gato(\"Mimi\", 5), Vaca(\"Margarida\", 8)]\n",
        "\n",
        "for animal in animais:\n",
        "    print(\"Nome:\", animal.nome)\n",
        "    print(\"Idade:\", animal.idade)\n",
        "    print(\"Som:\", animal.emitir_som())\n",
        "    print()"
      ],
      "metadata": {
        "id": "rvPxhr1M3yUm"
      },
      "execution_count": null,
      "outputs": []
    }
  ]
}