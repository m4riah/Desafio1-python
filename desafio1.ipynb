{
  "nbformat": 4,
  "nbformat_minor": 0,
  "metadata": {
    "colab": {
      "provenance": [],
      "authorship_tag": "ABX9TyPPm4ZGL3ANRFFKAqIOg941",
      "include_colab_link": true
    },
    "kernelspec": {
      "name": "python3",
      "display_name": "Python 3"
    },
    "language_info": {
      "name": "python"
    }
  },
  "cells": [
    {
      "cell_type": "markdown",
      "metadata": {
        "id": "view-in-github",
        "colab_type": "text"
      },
      "source": [
        "<a href=\"https://colab.research.google.com/github/m4riah/Desafio1-python/blob/main/desafio1.ipynb\" target=\"_parent\"><img src=\"https://colab.research.google.com/assets/colab-badge.svg\" alt=\"Open In Colab\"/></a>"
      ]
    },
    {
      "cell_type": "code",
      "execution_count": null,
      "metadata": {
        "id": "m-gFwdbo3ay6"
      },
      "outputs": [],
      "source": [
        "- Desenvolva um objeto 'Animal' com aplicação dos conceitos de Herança e Polimorfismo.\n",
        "- Reino animal: principais características e classificações"
      ]
    },
    {
      "cell_type": "code",
      "source": [
        "class Animal:\n",
        "    def __init__(self, nome, idade):\n",
        "        self.nome = nome\n",
        "        self.idade = idade\n",
        "\n",
        "    def emitir_som(self):\n",
        "        pass\n",
        "\n",
        "\n",
        "class Anfibio(Animal):\n",
        "    def __init__(self, nome, idade):\n",
        "        super().__init__(nome, idade)\n",
        "\n",
        "    def emitir_som(self):\n",
        "        return \"Sons de anfíbios.\"\n",
        "\n",
        "\n",
        "class Ave(Animal):\n",
        "    def __init__(self, nome, idade):\n",
        "        super().__init__(nome, idade)\n",
        "\n",
        "    def emitir_som(self):\n",
        "        return \"Sons de aves.\"\n",
        "\n",
        "\n",
        "class Mamifero(Animal):\n",
        "    def __init__(self, nome, idade):\n",
        "        super().__init__(nome, idade)\n",
        "\n",
        "    def emitir_som(self):\n",
        "        return \"Sons de mamíferos.\"\n",
        "\n",
        "\n",
        "class Peixe(Animal):\n",
        "    def __init__(self, nome, idade):\n",
        "        super().__init__(nome, idade)\n",
        "\n",
        "    def emitir_som(self):\n",
        "        return \"Sons de peixes.\"\n",
        "\n",
        "\n",
        "class Reptil(Animal):\n",
        "    def __init__(self, nome, idade):\n",
        "        super().__init__(nome, idade)\n",
        "\n",
        "    def emitir_som(self):\n",
        "        return \"Sons de répteis.\"\n",
        "\n",
        "\n",
        "# Uso do polimorfismo\n",
        "animais = [\n",
        "    Anfibio(\"Sapo\", 2),\n",
        "    Ave(\"Papagaio\", 10),\n",
        "    Mamifero(\"Cachorro\", 5),\n",
        "    Peixe(\"Tilápia\", 1),\n",
        "    Reptil(\"Cobra\", 3)\n",
        "]\n",
        "\n",
        "for animal in animais:\n",
        "    print(\"Nome:\", animal.nome)\n",
        "    print(\"Idade:\", animal.idade)\n",
        "    print(\"Som:\", animal.emitir_som())\n",
        "    print()\n"
      ],
      "metadata": {
        "id": "rvPxhr1M3yUm"
      },
      "execution_count": null,
      "outputs": []
    }
  ]
}